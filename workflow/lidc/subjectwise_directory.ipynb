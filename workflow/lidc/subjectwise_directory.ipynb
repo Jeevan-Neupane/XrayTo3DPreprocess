{
 "cells": [
  {
   "cell_type": "code",
   "execution_count": 13,
   "metadata": {},
   "outputs": [],
   "source": [
    "from pathlib import Path\n",
    "import shutil\n",
    "from xrayto3d_preprocess import get_nifti_stem"
   ]
  },
  {
   "cell_type": "code",
   "execution_count": 1,
   "metadata": {},
   "outputs": [],
   "source": [
    "img_path = '/mnt/SSD0/mahesh-home/xrayto3D-benchmark/2D-3D-Reconstruction-Datasets/lidc/raw/img/subset0_outer/tmp/subset{index}/data_preprocessed'\n",
    "seg_path = '/mnt/SSD0/mahesh-home/xrayto3D-benchmark/2D-3D-Reconstruction-Datasets/lidc/raw/img/subset0_outer/tmp/subset{index}/vertebrae_segmentation'"
   ]
  },
  {
   "cell_type": "code",
   "execution_count": 10,
   "metadata": {},
   "outputs": [
    {
     "name": "stdout",
     "output_type": "stream",
     "text": [
      "890 890\n"
     ]
    }
   ],
   "source": [
    "imgs = []\n",
    "segs = []\n",
    "for i in range(0,10):\n",
    "    imgs.extend(sorted(Path(img_path.format(index=i)).glob('*.nii.gz')))\n",
    "    segs.extend(sorted(Path(seg_path.format(index=i)).glob('*.nii.gz')))\n",
    "print(len(list(imgs)),len(list(segs)))"
   ]
  },
  {
   "cell_type": "code",
   "execution_count": 16,
   "metadata": {},
   "outputs": [],
   "source": [
    "base_path = '/mnt/SSD0/mahesh-home/xrayto3D-benchmark/2D-3D-Reconstruction-Datasets/lidc/BIDS'\n",
    "for index,(img,seg) in enumerate(zip(imgs,segs)):\n",
    "    subject_dir = Path(base_path)/f'LIDC-IDRI-LUNA-{index:04d}'\n",
    "    subject_dir.mkdir(exist_ok=True)\n",
    "    shutil.copy(img,subject_dir/'ct.nii.gz')\n",
    "    shutil.copy(seg,subject_dir/'seg.nii.gz')\n"
   ]
  },
  {
   "cell_type": "code",
   "execution_count": 19,
   "metadata": {},
   "outputs": [],
   "source": [
    "with open('/mnt/SSD0/mahesh-home/xrayto3D-benchmark/configs/subjects_list/lidc_subject_list.lst','w') as f:\n",
    "    for index,(img,seg) in enumerate(zip(imgs,segs)):\n",
    "        f.write(f'LIDC-IDRI-LUNA-{index:04d}\\n')"
   ]
  },
  {
   "cell_type": "code",
   "execution_count": null,
   "metadata": {},
   "outputs": [],
   "source": []
  }
 ],
 "metadata": {
  "kernelspec": {
   "display_name": "xrayto3dbenchmark-cuda_10-v2",
   "language": "python",
   "name": "python3"
  },
  "language_info": {
   "codemirror_mode": {
    "name": "ipython",
    "version": 3
   },
   "file_extension": ".py",
   "mimetype": "text/x-python",
   "name": "python",
   "nbconvert_exporter": "python",
   "pygments_lexer": "ipython3",
   "version": "3.8.15"
  },
  "orig_nbformat": 4,
  "vscode": {
   "interpreter": {
    "hash": "5dc0af6d82d39a8a86aadc567182bda8a40d5e000faed4c52f8cc916fb6cbd0d"
   }
  }
 },
 "nbformat": 4,
 "nbformat_minor": 2
}
