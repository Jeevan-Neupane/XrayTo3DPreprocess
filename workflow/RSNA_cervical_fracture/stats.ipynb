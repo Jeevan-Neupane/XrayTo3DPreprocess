{
 "cells": [
  {
   "cell_type": "code",
   "execution_count": 1,
   "metadata": {},
   "outputs": [],
   "source": [
    "import pathlib\n",
    "from pathlib import Path"
   ]
  },
  {
   "cell_type": "code",
   "execution_count": 2,
   "metadata": {},
   "outputs": [],
   "source": [
    "base_path = '/mnt/SSD0/mahesh-home/xrayto3D-benchmark/2D-3D-Reconstruction-Datasets/rsna_cervical_fracture'\n",
    "seg_path = Path('/mnt/SSD0/mahesh-home/xrayto3D-benchmark/2D-3D-Reconstruction-Datasets/rsna_cervical_fracture/data/segmentations')\n",
    "train_images_path = Path('/mnt/SSD0/mahesh-home/xrayto3D-benchmark/2D-3D-Reconstruction-Datasets/rsna_cervical_fracture/data/train_images')\n",
    "test_images_path = Path('/mnt/SSD0/mahesh-home/xrayto3D-benchmark/2D-3D-Reconstruction-Datasets/rsna_cervical_fracture/data/test_images')"
   ]
  },
  {
   "cell_type": "code",
   "execution_count": 3,
   "metadata": {},
   "outputs": [
    {
     "name": "stdout",
     "output_type": "stream",
     "text": [
      "2019 3\n"
     ]
    }
   ],
   "source": [
    "# gather subject list and path\n",
    "seg_files = list(seg_path.glob('*.nii'))\n",
    "rsna_fracture_subjects = [ s.stem for s in seg_files]\n",
    "\n",
    "train_subdirs = [f for f in train_images_path.iterdir() if f.is_dir()]\n",
    "test_subdirs = [f for f in test_images_path.iterdir() if f.is_dir()]\n",
    "train_subjects = [f.name for f in train_subdirs]\n",
    "test_subjects = [f.name for f in test_subdirs]\n",
    "print(len(train_subdirs),len(test_subdirs))"
   ]
  },
  {
   "cell_type": "code",
   "execution_count": 4,
   "metadata": {},
   "outputs": [],
   "source": [
    "# create pairs of image segmentation pairs\n",
    "img_seg_pair = []\n",
    "for subject, path in zip(rsna_fracture_subjects,seg_files):\n",
    "    try:\n",
    "        img_id = train_subjects.index(subject)\n",
    "    except ValueError as e:\n",
    "        print(f'could not find {subject}')\n",
    "    img_seg_pair.append((subject,train_subdirs[img_id],path))\n"
   ]
  },
  {
   "cell_type": "code",
   "execution_count": 5,
   "metadata": {},
   "outputs": [],
   "source": [
    "# write paths to file\n",
    "with open('subject_list.csv','w') as f:\n",
    "    f.write(f'id,subject,img_path,seg_path\\n') # write header\n",
    "    for i,(subject,img_path,seg_path) in enumerate(img_seg_pair):\n",
    "        f.write(f'rsna-{i:02d},{subject},{img_path},{seg_path}\\n')\n",
    "# write subject list to file\n",
    "with open('rsna_cervical.list','w') as f:\n",
    "    for i,_ in enumerate(img_seg_pair):\n",
    "        f.write(f'rsna-{i:02d}\\n')"
   ]
  },
  {
   "cell_type": "code",
   "execution_count": 7,
   "metadata": {},
   "outputs": [],
   "source": [
    "import SimpleITK as sitk\n",
    "import numpy as np\n",
    "def read_dicom(dicom_dir_path)->sitk.Image:\n",
    "    if isinstance(dicom_dir_path,Path):\n",
    "        dicom_dir_path = str(dicom_dir_path)\n",
    "    reader = sitk.ImageSeriesReader()\n",
    "    dicom_names = reader.GetGDCMSeriesFileNames(dicom_dir_path)\n",
    "    reader.SetFileNames(dicom_names)\n",
    "\n",
    "    image = reader.Execute()\n",
    "    return image\n",
    "\n",
    "def read_image(image_path)->sitk.Image:\n",
    "    return sitk.ReadImage(image_path)\n",
    "    \n",
    "def save_image(img:sitk.Image,filename):\n",
    "    sitk.WriteImage(img,fileName=filename)\n",
    "\n",
    "def rsna_flip_mirror(img:sitk.Image,flip_axes)->sitk.Image:\n",
    "    \"\"\"flip in Z axis and mirror in X axis\"\"\"\n",
    "    \n",
    "    img_arr = sitk.GetArrayFromImage(img)\n",
    "    flipped_img_arr = np.flip(img_arr, axis=flip_axes)\n",
    "    flipped_img:sitk.Image = sitk.GetImageFromArray(flipped_img_arr)\n",
    "    flipped_img.CopyInformation(img)\n",
    "    return flipped_img\n",
    "\n",
    "def get_metadata(img_path):\n",
    "    reader = sitk.ImageFileReader()\n",
    "\n",
    "    reader.SetFileName( img_path )\n",
    "    reader.LoadPrivateTagsOn();\n",
    "\n",
    "    reader.ReadImageInformation();\n",
    "    return reader\n",
    "    \n",
    "def get_orientation(img:sitk.Image):\n",
    "    return sitk.DICOMOrientImageFilter_GetOrientationFromDirectionCosines(img.GetDirection())"
   ]
  },
  {
   "cell_type": "code",
   "execution_count": 11,
   "metadata": {},
   "outputs": [],
   "source": [
    "# create subjectwise directory\n",
    "subjectwise_dir = Path(base_path)/'subjectwise'\n",
    "subjectwise_dir.mkdir(exist_ok=True)"
   ]
  },
  {
   "cell_type": "code",
   "execution_count": 10,
   "metadata": {},
   "outputs": [],
   "source": [
    "def get_stats(img:sitk.Image):\n",
    "    fltr = sitk.LabelShapeStatisticsImageFilter()\n",
    "    fltr.Execute(img)\n",
    "    return fltr"
   ]
  },
  {
   "cell_type": "code",
   "execution_count": null,
   "metadata": {},
   "outputs": [],
   "source": [
    "from tqdm import tqdm\n",
    "for id, (subject,img_path, seg_path) in tqdm(enumerate(img_seg_pair)):\n",
    "    ct = read_dicom(str(img_path))\n",
    "    ct_axcode = sitk.DICOMOrientImageFilter_GetOrientationFromDirectionCosines(ct.GetDirection())\n",
    "    ct_path = Path(subjectwise_dir)/f'rsna-{id:02d}'\n",
    "    ct_path.mkdir(exist_ok=True)\n",
    "    save_image(ct,str(ct_path/'ct.nii.gz'))\n",
    "\n",
    "    seg = read_image(str(seg_path))\n",
    "    seg = sitk.DICOMOrient(seg,ct_axcode)\n",
    "    save_image(seg,str(ct_path/'seg.nii.gz'))\n",
    "    print(ct_path)\n"
   ]
  },
  {
   "cell_type": "code",
   "execution_count": 18,
   "metadata": {},
   "outputs": [],
   "source": [
    "# get voxel count\n",
    "import pandas as pd\n",
    "df = pd.read_csv('subject_list.csv')\n",
    "subjectwise_dir = Path(base_path)/'subjectwise'\n",
    "\n",
    "voxel_count = []\n",
    "vertebra_count = []\n",
    "nonborder_vertebra_count = []\n",
    "for id,subject,img_path,seg_path in df.to_numpy():\n",
    "    seg  = subjectwise_dir/id/'seg.nii.gz'\n",
    "\n",
    "    stats = get_stats(sitk.ReadImage(str(seg)))\n",
    "    voxel_count.append([stats.GetNumberOfPixelsOnBorder(l) for l in stats.GetLabels()])\n",
    "    vertebra_count.append(len(stats.GetLabels()))\n",
    "    nonborder_vertebra_count.append(np.sum([0 if stats.GetNumberOfPixelsOnBorder(l) > 0 else 1 for l in stats.GetLabels()]))\n"
   ]
  },
  {
   "cell_type": "code",
   "execution_count": 19,
   "metadata": {},
   "outputs": [
    {
     "data": {
      "text/plain": [
       "(922, 710)"
      ]
     },
     "execution_count": 19,
     "metadata": {},
     "output_type": "execute_result"
    }
   ],
   "source": [
    "np.sum(vertebra_count),np.sum(nonborder_vertebra_count)"
   ]
  },
  {
   "cell_type": "code",
   "execution_count": 20,
   "metadata": {},
   "outputs": [],
   "source": [
    "import matplotlib.pyplot as plt\n",
    "import matplotlib\n",
    "\n",
    "matplotlib.style.use('ggplot')\n",
    "matplotlib.rcParams['font.size'] = 16\n",
    "matplotlib.rcParams['lines.linewidth'] = 3\n",
    "matplotlib.rcParams['lines.markersize'] = 10"
   ]
  },
  {
   "cell_type": "code",
   "execution_count": 21,
   "metadata": {},
   "outputs": [],
   "source": [
    "from math import floor,log10\n",
    "def format_func(value, tick_number=None):\n",
    "    num_thousands = 0 if abs(value) < 1000 else floor (log10(abs(value))/3)\n",
    "    value = round(value / 1000**num_thousands, 2)\n",
    "    return f'{value:g}'+' KMGTPEZY'[num_thousands]"
   ]
  },
  {
   "cell_type": "code",
   "execution_count": 22,
   "metadata": {},
   "outputs": [
    {
     "name": "stderr",
     "output_type": "stream",
     "text": [
      "No artists with labels found to put in legend.  Note that artists whose label start with an underscore are ignored when legend() is called with no argument.\n"
     ]
    },
    {
     "data": {
      "image/png": "[encoded data removed]",
      "text/plain": [
       "<Figure size 640x480 with 1 Axes>"
      ]
     },
     "metadata": {},
     "output_type": "display_data"
    }
   ],
   "source": [
    "fig, ax = plt.subplots()\n",
    "for id,v in enumerate(voxel_count):\n",
    "    plt.scatter(x = (id,)*len(v),y=v,label='',s=6,c='#E24A33')\n",
    "# plt.axhline(y=30000,linestyle='--',label='30k voxels',color='k')\n",
    "ax.yaxis.set_major_formatter(plt.FuncFormatter(format_func))\n",
    "plt.ylabel('#voxels-on-border')\n",
    "plt.xlabel('Sample ID')\n",
    "plt.legend()\n",
    "plt.tight_layout()"
   ]
  },
  {
   "cell_type": "code",
   "execution_count": 23,
   "metadata": {},
   "outputs": [],
   "source": [
    "# get voxel count\n",
    "import pandas as pd\n",
    "df = pd.read_csv('subject_list.csv')\n",
    "subjectwise_dir = Path(base_path)/'subjectwise'\n",
    "\n",
    "voxel_count = []\n",
    "vertebra_count = []\n",
    "nonborder_vertebra_count = []\n",
    "for id,subject,img_path,seg_path in df.to_numpy():\n",
    "    seg  = subjectwise_dir/id/'seg.nii.gz'\n",
    "\n",
    "    stats = get_stats(sitk.ReadImage(str(seg)))\n",
    "    voxel_count.append([stats.GetNumberOfPixelsOnBorder(l) for l in stats.GetLabels()])\n",
    "    vertebra_count.append(len(stats.GetLabels()))\n",
    "    nonborder_vertebra_count.append(([0 if stats.GetNumberOfPixelsOnBorder(l) > 0 else 1 for l in stats.GetLabels()]))\n"
   ]
  },
  {
   "cell_type": "code",
   "execution_count": 30,
   "metadata": {},
   "outputs": [
    {
     "name": "stdout",
     "output_type": "stream",
     "text": [
      "{'C1': 78, 'C2': 77, 'C3': 82, 'C4': 85, 'C5': 85, 'C6': 84, 'C7': 83, 'T1': 68, 'T2': 32, 'T3': 16, 'T4': 11, 'T5': 8, 'T6': 1}\n"
     ]
    }
   ],
   "source": [
    "# nonborder_vertebra_count\n",
    "vertebra_label = [f'C{i}' if i <=7 else f'T{i-7}' for i in range(1,14)]\n",
    "vertebra_count_dict = { label:0 for label in vertebra_label}\n",
    "for row in nonborder_vertebra_count:\n",
    "    for exists,key in zip(row,vertebra_label):\n",
    "        if exists:\n",
    "            vertebra_count_dict[key] += 1\n",
    "print(vertebra_count_dict)\n",
    "# np.max([len(a) for a in nonborder_vertebra_count])"
   ]
  },
  {
   "cell_type": "code",
   "execution_count": 36,
   "metadata": {},
   "outputs": [
    {
     "data": {
      "image/png": "[encoded data removed]",
      "text/plain": [
       "<Figure size 640x480 with 1 Axes>"
      ]
     },
     "metadata": {},
     "output_type": "display_data"
    }
   ],
   "source": [
    "labels = list(vertebra_count_dict.keys())\n",
    "count = list(vertebra_count_dict.values())\n",
    "# creating the bar plot\n",
    "plt.bar(labels, count, \n",
    "        width = 0.4)\n",
    "plt.xlabel('RSNA Cervical Fracture')\n",
    "plt.xticks(fontsize=10)\n",
    "plt.ylabel('frequency')\n",
    "plt.savefig('rsna_stats_plot.pdf')"
   ]
  },
  {
   "cell_type": "code",
   "execution_count": null,
   "metadata": {},
   "outputs": [],
   "source": []
  }
 ],
 "metadata": {
  "kernelspec": {
   "display_name": "xrayto3dbenchmark-cuda_10-v2",
   "language": "python",
   "name": "python3"
  },
  "language_info": {
   "codemirror_mode": {
    "name": "ipython",
    "version": 3
   },
   "file_extension": ".py",
   "mimetype": "text/x-python",
   "name": "python",
   "nbconvert_exporter": "python",
   "pygments_lexer": "ipython3",
   "version": "3.8.15"
  },
  "orig_nbformat": 4,
  "vscode": {
   "interpreter": {
    "hash": "5dc0af6d82d39a8a86aadc567182bda8a40d5e000faed4c52f8cc916fb6cbd0d"
   }
  }
 },
 "nbformat": 4,
 "nbformat_minor": 2
}
