{
 "cells": [
  {
   "cell_type": "code",
   "execution_count": 5,
   "metadata": {},
   "outputs": [],
   "source": [
    "from pathlib import Path\n",
    "import SimpleITK as sitk\n",
    "import pandas as pd\n",
    "from tqdm import tqdm\n",
    "import numpy as np\n",
    "import matplotlib.pyplot as plt\n",
    "from xrayto3d_preprocess import (\n",
    "    read_image,\n",
    "    write_image,\n",
    "    get_orientation_code_itk,\n",
    "    read_dicom,\n",
    "    get_segmentation_stats,\n",
    "    reorient_to,\n",
    "    get_barplot\n",
    ")\n"
   ]
  },
  {
   "cell_type": "code",
   "execution_count": 2,
   "metadata": {},
   "outputs": [],
   "source": [
    "base_path = \"/mnt/SSD0/mahesh-home/xrayto3D-benchmark/2D-3D-Reconstruction-Datasets/rsna_cervical_fracture\"\n",
    "# segmentations are stored here\n",
    "seg_path = Path(\n",
    "    \"/mnt/SSD0/mahesh-home/xrayto3D-benchmark/2D-3D-Reconstruction-Datasets/rsna_cervical_fracture/data/segmentations\"\n",
    ")\n",
    "# images are stored as dicom dirs in two subdirectories train_images and test_images\n",
    "train_images_path = Path(\n",
    "    \"/mnt/SSD0/mahesh-home/xrayto3D-benchmark/2D-3D-Reconstruction-Datasets/rsna_cervical_fracture/data/train_images\"\n",
    ")\n",
    "test_images_path = Path(\n",
    "    \"/mnt/SSD0/mahesh-home/xrayto3D-benchmark/2D-3D-Reconstruction-Datasets/rsna_cervical_fracture/data/test_images\"\n",
    ")\n"
   ]
  },
  {
   "cell_type": "code",
   "execution_count": 3,
   "metadata": {},
   "outputs": [
    {
     "name": "stdout",
     "output_type": "stream",
     "text": [
      "Train images 2019 Test images 3\n"
     ]
    }
   ],
   "source": [
    "# gather subject list and path\n",
    "seg_files = list(seg_path.glob(\"*.nii\"))\n",
    "seg_subjects = [s.stem for s in seg_files]\n",
    "\n",
    "train_dicom_dirs = [f for f in train_images_path.iterdir() if f.is_dir()]\n",
    "test_dicom_dirs = [f for f in test_images_path.iterdir() if f.is_dir()]\n",
    "train_img_subjects = [f.name for f in train_dicom_dirs]\n",
    "test_img_subjects = [f.name for f in test_dicom_dirs]\n",
    "print(\"Train images\", len(train_dicom_dirs), \"Test images\", len(test_dicom_dirs))\n",
    "\n",
    "# create pairs of image segmentation pairs\n",
    "img_seg_pair = []\n",
    "for subject, seg_filepath in zip(seg_subjects, seg_files):\n",
    "    try:\n",
    "        # find the corrsponding image path\n",
    "        img_index = train_img_subjects.index(subject)\n",
    "        train_img_path = train_dicom_dirs[img_index]\n",
    "        img_seg_pair.append((subject, train_img_path, seg_filepath))\n",
    "    except ValueError as e:\n",
    "        print(f\"could not find {subject}\")\n",
    "\n",
    "# write paths to file\n",
    "with open(\"subject_list.csv\", \"w\") as f:\n",
    "    f.write(f\"id,subject,img_path,seg_path\\n\")  # write header\n",
    "    # write each row\n",
    "    for i, (subject, img_path, seg_path) in enumerate(img_seg_pair):\n",
    "        f.write(f\"rsna-{i:02d},{subject},{img_path},{seg_path}\\n\")\n",
    "\n",
    "# write subject list to file\n",
    "with open(\"rsna_cervical.list\", \"w\") as f:\n",
    "    for i, _ in enumerate(img_seg_pair):\n",
    "        f.write(f\"rsna-{i:02d}\\n\")\n"
   ]
  },
  {
   "cell_type": "code",
   "execution_count": 11,
   "metadata": {},
   "outputs": [],
   "source": [
    "# create subjectwise directory\n",
    "subjectwise_dir = Path(base_path) / \"subjectwise\"\n",
    "subjectwise_dir.mkdir(exist_ok=True)\n",
    "\n",
    "# save each image segmenation pair as nifti in their own subjectwise directories\n",
    "# images are in LAS, segmentations are in LPS. reorient segmentation to match that with images\n",
    "for id, (subject, img_path, seg_path) in tqdm(enumerate(img_seg_pair)):\n",
    "    ct = read_dicom(str(img_path))\n",
    "\n",
    "    ct_path = Path(subjectwise_dir) / f\"rsna-{id:02d}\"\n",
    "    ct_path.mkdir(exist_ok=True)\n",
    "    write_image(ct, str(ct_path / \"ct.nii.gz\"))\n",
    "\n",
    "    seg = read_image(str(seg_path))\n",
    "    seg = reorient_to(seg, axcodes_to=ct)\n",
    "    write_image(seg, str(ct_path / \"seg.nii.gz\"))\n"
   ]
  },
  {
   "cell_type": "code",
   "execution_count": 4,
   "metadata": {},
   "outputs": [
    {
     "name": "stdout",
     "output_type": "stream",
     "text": [
      "Total vertebra 922 Non partial Vertebra 710\n",
      "{'C1': 78, 'C2': 77, 'C3': 82, 'C4': 85, 'C5': 85, 'C6': 84, 'C7': 83, 'T1': 68, 'T2': 32, 'T3': 16, 'T4': 11, 'T5': 8, 'T6': 1}\n"
     ]
    }
   ],
   "source": [
    "# get voxel count\n",
    "df = pd.read_csv(\"subject_list.csv\")\n",
    "subjectwise_dir = Path(base_path) / \"subjectwise\"\n",
    "\n",
    "voxels_on_border = []\n",
    "num_vertebra = []\n",
    "nonborder_vertebra = []\n",
    "for id, subject, img_path, seg_path in df.to_numpy():\n",
    "    seg = subjectwise_dir / id / \"seg.nii.gz\"\n",
    "\n",
    "    stats = get_segmentation_stats(read_image(seg))\n",
    "    voxels_on_border.append([stats.GetNumberOfPixelsOnBorder(l) for l in stats.GetLabels()])\n",
    "    num_vertebra.append(len(stats.GetLabels()))\n",
    "    nonborder_vertebra.append(\n",
    "        [\n",
    "            0 if stats.GetNumberOfPixelsOnBorder(l) > 0 else 1\n",
    "            for l in stats.GetLabels()\n",
    "        ]\n",
    "    )\n",
    "print(\n",
    "    \"Total vertebra\",\n",
    "    np.sum(num_vertebra),\n",
    "    \"Non partial Vertebra\",\n",
    "    np.sum([np.sum(row) for row in nonborder_vertebra]),\n",
    ")\n",
    "\n",
    "# there is at most upto C1-C7,T1-T6 vertebra\n",
    "vertebra_label = [f\"C{i}\" if i <= 7 else f\"T{i-7}\" for i in range(1, 14)]\n",
    "vertebra_count_dict = {label: 0 for label in vertebra_label}\n",
    "for row in nonborder_vertebra:\n",
    "    for exists, key in zip(row, vertebra_label):\n",
    "        if exists:\n",
    "            vertebra_count_dict[key] += 1\n",
    "print(vertebra_count_dict)\n"
   ]
  },
  {
   "cell_type": "code",
   "execution_count": 8,
   "metadata": {},
   "outputs": [
    {
     "data": {
      "image/png": "[encoded data removed]",
      "text/plain": [
       "<Figure size 640x480 with 1 Axes>"
      ]
     },
     "metadata": {},
     "output_type": "display_data"
    }
   ],
   "source": [
    "fig,ax = get_barplot(vertebra_count_dict)\n",
    "plt.xlabel(\"RSNA Cervical Fracture\")\n",
    "plt.ylabel(\"frequency\")\n",
    "plt.savefig(\"rsna_stats_plot.pdf\")\n"
   ]
  },
  {
   "cell_type": "code",
   "execution_count": null,
   "metadata": {},
   "outputs": [],
   "source": []
  }
 ],
 "metadata": {
  "kernelspec": {
   "display_name": "xrayto3dbenchmark-cuda_10-v2",
   "language": "python",
   "name": "python3"
  },
  "language_info": {
   "codemirror_mode": {
    "name": "ipython",
    "version": 3
   },
   "file_extension": ".py",
   "mimetype": "text/x-python",
   "name": "python",
   "nbconvert_exporter": "python",
   "pygments_lexer": "ipython3",
   "version": "3.8.15"
  },
  "orig_nbformat": 4,
  "vscode": {
   "interpreter": {
    "hash": "5dc0af6d82d39a8a86aadc567182bda8a40d5e000faed4c52f8cc916fb6cbd0d"
   }
  }
 },
 "nbformat": 4,
 "nbformat_minor": 2
}
